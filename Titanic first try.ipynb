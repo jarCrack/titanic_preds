{
 "cells": [
  {
   "cell_type": "markdown",
   "metadata": {},
   "source": [
    "# Data readin as preprocessing"
   ]
  },
  {
   "cell_type": "code",
   "execution_count": 43,
   "metadata": {
    "collapsed": false,
    "scrolled": true
   },
   "outputs": [],
   "source": [
    "import pandas as pd\n",
    "\n",
    "dat=pd.read_csv(\"train.csv\")\n",
    "\n",
    "target_attribute=[\"Survived\"]\n",
    "attributes=[\"Pclass\",\"Sex\",\"Age\",\"SibSp\",\"Parch\",\"Fare\",\"Embarked\"]\n",
    "dat=dat[target_attribute+attributes]\n",
    "\n",
    "class_attributes=[\"Sex\",\"SibSp\",\"Parch\",\"Embarked\",\"Pclass\"]\n",
    "# filter out invalid entries\n",
    "dat=dat.dropna()\n",
    "\n",
    "\n",
    "\n",
    "# create training and test set#\n",
    "\n",
    "y=dat[target_attribute]\n",
    "X=dat[attributes]\n",
    "\n",
    "# binarize class variables\n",
    "X=pd.get_dummies(X,columns=class_attributes)\n",
    "\n",
    "from sklearn.cross_validation import *\n",
    "X_train,X_test,y_train,y_test=train_test_split(X,y,test_size=0.1,random_state=42)"
   ]
  },
  {
   "cell_type": "code",
   "execution_count": 44,
   "metadata": {
    "collapsed": false
   },
   "outputs": [
    {
     "name": "stderr",
     "output_type": "stream",
     "text": [
      "/home/john/anaconda2/lib/python2.7/site-packages/ipykernel/__main__.py:3: DataConversionWarning: A column-vector y was passed when a 1d array was expected. Please change the shape of y to (n_samples,), for example using ravel().\n",
      "  app.launch_new_instance()\n"
     ]
    },
    {
     "data": {
      "text/plain": [
       "0.76388888888888884"
      ]
     },
     "execution_count": 44,
     "metadata": {},
     "output_type": "execute_result"
    }
   ],
   "source": [
    "from sklearn.ensemble import *\n",
    "m=RandomForestClassifier()\n",
    "m.fit(X_train,y_train)\n",
    "m.score(X_test,y_test)"
   ]
  },
  {
   "cell_type": "code",
   "execution_count": null,
   "metadata": {
    "collapsed": true
   },
   "outputs": [],
   "source": []
  }
 ],
 "metadata": {
  "kernelspec": {
   "display_name": "Python 2",
   "language": "python",
   "name": "python2"
  },
  "language_info": {
   "codemirror_mode": {
    "name": "ipython",
    "version": 2
   },
   "file_extension": ".py",
   "mimetype": "text/x-python",
   "name": "python",
   "nbconvert_exporter": "python",
   "pygments_lexer": "ipython2",
   "version": "2.7.11"
  }
 },
 "nbformat": 4,
 "nbformat_minor": 0
}
